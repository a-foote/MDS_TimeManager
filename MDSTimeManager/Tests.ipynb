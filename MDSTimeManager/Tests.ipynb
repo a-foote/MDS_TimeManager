{
 "cells": [
  {
   "cell_type": "code",
   "execution_count": 76,
   "id": "616c1a4f",
   "metadata": {},
   "outputs": [
    {
     "name": "stderr",
     "output_type": "stream",
     "text": [
      "test_7thdate (__main__.TestViewer) ... ok\n",
      "\n",
      "----------------------------------------------------------------------\n",
      "Ran 1 test in 0.002s\n",
      "\n",
      "OK\n"
     ]
    },
    {
     "name": "stdout",
     "output_type": "stream",
     "text": [
      "setUp\n",
      "The 7th date from today is:  December 20, 2022\n",
      "The 7th date from today is:  December 20, 2022\n",
      "The 7th date from today is:  December 20, 2022\n",
      "The 7th date from today is:  December 20, 2022\n",
      "The 7th date from today is:  December 20, 2022\n",
      "The 7th date from today is:  December 20, 2022\n",
      "The 7th date from today is:  December 20, 2022\n",
      "The 7th date from today is:  December 20, 2022\n",
      "Tear Down\n"
     ]
    },
    {
     "data": {
      "text/plain": [
       "<unittest.main.TestProgram at 0x2bd3f458730>"
      ]
     },
     "execution_count": 76,
     "metadata": {},
     "output_type": "execute_result"
    }
   ],
   "source": [
    "import unittest\n",
    "import system.deliverableviewer as dv\n",
    "import datetime\n",
    "\n",
    "class TestViewer(unittest.TestCase):\n",
    "    \n",
    "    def setUp(self):\n",
    "        print(\"setUp\")\n",
    "        \n",
    "    def dateadd(daystoadd):\n",
    "        newdate = int(dv.get7thdate())+daystoadd #dv.get7thdate() is the function we are testing\n",
    "        return newdate\n",
    "    \n",
    "    def tearDown(self):\n",
    "        print(\"Tear Down\")\n",
    "    \n",
    "    def test_7thdate(self):\n",
    "        self.assertEqual((dateadd(0)+7), dateadd(7))\n",
    "        self.assertEqual((dateadd(1)+7), dateadd(8))\n",
    "        self.assertEqual((dateadd(2)+7), dateadd(9))\n",
    "        self.assertEqual((dateadd(3)+7), dateadd(10))\n",
    "        \n",
    "unittest.main(argv=[''], verbosity=2, exit=False)"
   ]
  },
  {
   "cell_type": "code",
   "execution_count": 75,
   "id": "0684e94e",
   "metadata": {},
   "outputs": [
    {
     "name": "stdout",
     "output_type": "stream",
     "text": [
      "The 7th date from today is:  December 20, 2022\n",
      "The 7th date from today is:  December 20, 2022\n",
      "True\n"
     ]
    }
   ],
   "source": [
    "import unittest\n",
    "import system.deliverableviewer as dv\n",
    "\n",
    "def dateadd(daystoadd):\n",
    "    newdate = int(dv.get7thdate())+daystoadd\n",
    "    return newdate\n",
    "\n",
    "# a = dateadd(0)\n",
    "# print(a)\n",
    "# b = dateadd(7)\n",
    "# print((a+7)==b)\n",
    "print((dateadd(0)+7) == dateadd(7))"
   ]
  }
 ],
 "metadata": {
  "kernelspec": {
   "display_name": "Python 3 (ipykernel)",
   "language": "python",
   "name": "python3"
  },
  "language_info": {
   "codemirror_mode": {
    "name": "ipython",
    "version": 3
   },
   "file_extension": ".py",
   "mimetype": "text/x-python",
   "name": "python",
   "nbconvert_exporter": "python",
   "pygments_lexer": "ipython3",
   "version": "3.9.12"
  }
 },
 "nbformat": 4,
 "nbformat_minor": 5
}
