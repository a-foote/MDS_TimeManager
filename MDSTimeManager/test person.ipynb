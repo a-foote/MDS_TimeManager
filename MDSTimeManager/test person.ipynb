{
 "cells": [
  {
   "cell_type": "code",
   "execution_count": 1,
   "id": "abe9553f",
   "metadata": {},
   "outputs": [
    {
     "name": "stderr",
     "output_type": "stream",
     "text": [
      "----------------------------------------------------------------------\n",
      "Ran 2 tests in 0.000s\n",
      "\n",
      "OK\n"
     ]
    },
    {
     "name": "stdout",
     "output_type": "stream",
     "text": [
      "\n",
      "Start Test 1\n",
      "\n",
      "End Test 1\n",
      "\n",
      "Start Test 2\n",
      "\n",
      "End Test 2\n"
     ]
    },
    {
     "data": {
      "text/plain": [
       "<unittest.main.TestProgram at 0x20b495780a0>"
      ]
     },
     "execution_count": 1,
     "metadata": {},
     "output_type": "execute_result"
    }
   ],
   "source": [
    "import setup.person as p\n",
    "import unittest\n",
    "\n",
    "# creating objects\n",
    "\n",
    "# student1\n",
    "stud1 = p.Student(\"Vimaljeet Singh\", 25087913)\n",
    "# student2\n",
    "stud2 = p.Student(\"Alyssa Foote\", 13712508)\n",
    "# instructor1\n",
    "instr1 = p.Instructor(\"Khalad Hasan\",\"Wednesday: 12:30pm - 1:30pm\", \"Slack, Email, Appointment\")\n",
    "instr1.teaches = \"Data 540: Scripting and Reporting, Data 533: Object Oriented Programming\"\n",
    "# instructor2\n",
    "instr2 = p.Instructor(\"Emelie Gustaffson\",\"Tuesday: 12:30pm - 01:00pm\", \"Slack\")\n",
    "instr2.teaches = \"Data 543: Data Collection\"\n",
    "# instructor3\n",
    "instr3 = p.Instructor(\"Jeff Andrews\",\"Thursday: 3:30pm - 4:30pm\", \"Slack, Drop-in\")\n",
    "instr3.teaches = \"Data 570: Resampling and Regularization\"\n",
    "# instructor4\n",
    "instr4 = p.Instructor(\"Ladan Tazik\",\"Wednesday: 01:30pm - 2:00pm\", \"Slack, Email\")\n",
    "instr4.teaches = \"Data 581: Modelling and Simulation 2\"\n",
    "\n",
    "################################################################################################\n",
    "\n",
    "class TestSetupPerson(unittest.TestCase):\n",
    "    c = 1    \n",
    "    def setUp(self):\n",
    "        print(\"\\nStart Test\", TestSetupPerson.c)\n",
    "    \n",
    "    def tearDown(self):\n",
    "        print(\"\\nEnd Test\", TestSetupPerson.c)\n",
    "        TestSetupPerson.c = TestSetupPerson.c + 1\n",
    "    \n",
    "    def test_students(self):\n",
    "        self.assertEqual(stud1.name, \"Vimaljeet Singh\")\n",
    "        self.assertIsNot(stud2.sID, 25087913)\n",
    "        self.assertIn(\"Foote\",stud2.name)\n",
    "        self.assertTrue(stud2.sID==13712508)\n",
    "        \n",
    "    def test_instructors(self):\n",
    "        self.assertIn(\"Emelie\", instr2.name)\n",
    "        self.assertNotIn(\"Appointment\", instr4.comm)\n",
    "        self.assertTrue(instr1.name==\"Khalad Hasan\")\n",
    "        self.assertNotEqual(instr3.teaches, \"Data 570: Resampling and Regularization\")\n",
    "\n",
    "unittest.main(argv=[''], verbosity=0, exit=False)"
   ]
  }
 ],
 "metadata": {
  "kernelspec": {
   "display_name": "Python 3 (ipykernel)",
   "language": "python",
   "name": "python3"
  },
  "language_info": {
   "codemirror_mode": {
    "name": "ipython",
    "version": 3
   },
   "file_extension": ".py",
   "mimetype": "text/x-python",
   "name": "python",
   "nbconvert_exporter": "python",
   "pygments_lexer": "ipython3",
   "version": "3.9.12"
  }
 },
 "nbformat": 4,
 "nbformat_minor": 5
}
