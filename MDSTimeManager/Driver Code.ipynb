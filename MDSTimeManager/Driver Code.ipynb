{
 "cells": [
  {
   "cell_type": "markdown",
   "id": "b7375675",
   "metadata": {},
   "source": [
    "# Driver code"
   ]
  },
  {
   "cell_type": "code",
   "execution_count": null,
   "id": "dc1379d4",
   "metadata": {},
   "outputs": [],
   "source": [
    "import system.deliverableviewer as dv\n",
    "import system.timemanager as tm\n",
    "\n",
    "next7deliverables = dv.DeliverableSearch(tm.Courses)\n",
    "dv.DeliverableViewer(next7deliverables)"
   ]
  },
  {
   "cell_type": "code",
   "execution_count": null,
   "id": "9f0e6d0a",
   "metadata": {},
   "outputs": [],
   "source": [
    "availabletime = tm.userinput()\n",
    "tm.timemanagercal(availabletime, tm.Courses)"
   ]
  }
 ],
 "metadata": {
  "kernelspec": {
   "display_name": "Python 3 (ipykernel)",
   "language": "python",
   "name": "python3"
  },
  "language_info": {
   "codemirror_mode": {
    "name": "ipython",
    "version": 3
   },
   "file_extension": ".py",
   "mimetype": "text/x-python",
   "name": "python",
   "nbconvert_exporter": "python",
   "pygments_lexer": "ipython3",
   "version": "3.9.12"
  }
 },
 "nbformat": 4,
 "nbformat_minor": 5
}
