{
 "cells": [
  {
   "cell_type": "markdown",
   "id": "b7375675",
   "metadata": {},
   "source": [
    "# Driver code"
   ]
  },
  {
   "cell_type": "code",
   "execution_count": 1,
   "id": "2fcd8056",
   "metadata": {},
   "outputs": [
    {
     "name": "stdout",
     "output_type": "stream",
     "text": [
      "Welcome to the MDSTimeManager! \n",
      "\n",
      "Please note: Presently this tool is strictly for use by MDS Okanagan students in Block 3 of 2022. Future versions of this package will expand for use in all blocks for both MDS Vancouver and Okanagan students.\n",
      "\n",
      "Enter one of the following options:\n",
      "1    : Use the deliverableviewer and see upcoming due dates\n",
      "2    : Use the timemanagercalc and get study time recommendations\n",
      "x    : Quit the session\n",
      "2\n",
      "\n",
      "\n",
      "Please choose a rank out of (1,2,3) with 3 being most difficult.\n",
      "For Object Oriented Programming: \n",
      "0\n",
      "Having a hard time following basic instructions? \n",
      "Choose from ranks 1, 2 or 3 only\n",
      "4\n",
      "Having a hard time following basic instructions? \n",
      "Choose from ranks 1, 2 or 3 only\n",
      "1\n",
      "For Data Collection: \n",
      "2\n",
      "For Resampling and Regularization: \n",
      "2\n",
      "For Modelling and Simulation: \n",
      "2\n",
      "How much time is available in the next 7 days for studies (in hours)? 2\n",
      "How much time (in hours) you think you will take for the following:\n",
      "\n",
      "For Data543: Assignment 2           due on: 12/16 (MM/DD)\n",
      "2\n",
      "For Data571: Assignment 2           due on: 12/19 (MM/DD)\n",
      "2\n",
      "For Data 581: Lab 3                 due on: 12/15 (MM/DD)\n",
      "2\n",
      "\n",
      "Time alloted for studying is less than the time you will work on deliverables.\n",
      "\n",
      "Study time cannot be recommended.\n",
      "\n",
      "\n",
      "Enter one of the following options:\n",
      "1    : Use the deliverableviewer and see upcoming due dates\n",
      "2    : Use the timemanagercalc and get study time recommendations\n",
      "x    : Quit the session\n",
      "2\n",
      "\n",
      "\n",
      "Please choose a rank out of (1,2,3) with 3 being most difficult.\n",
      "For Object Oriented Programming: \n",
      "0\n",
      "Having a hard time following basic instructions? \n",
      "Choose from ranks 1, 2 or 3 only\n",
      "2\n",
      "For Data Collection: \n",
      "2\n",
      "For Resampling and Regularization: \n",
      "2\n",
      "For Modelling and Simulation: \n",
      "2\n",
      "How much time is available in the next 7 days for studies (in hours)? 8\n",
      "How much time (in hours) you think you will take for the following:\n",
      "\n",
      "For Data543: Assignment 2           due on: 12/16 (MM/DD)\n",
      "1\n",
      "For Data571: Assignment 2           due on: 12/19 (MM/DD)\n",
      "1\n",
      "For Data 581: Lab 3                 due on: 12/15 (MM/DD)\n",
      "1\n",
      "\n",
      "\n",
      "Time left after assignments and labs: 5.00 hours\n",
      "\n",
      "Recommended study time for Object Oriented Programming is 1.25 hours (75 mins)\n",
      "Recommended study time for Data Collection is 1.25 hours (75 mins)\n",
      "Recommended study time for Resampling and Regularization is 1.25 hours (75 mins)\n",
      "Recommended study time for Modelling and Simulation is 1.25 hours (75 mins)\n",
      "\n",
      "Enter one of the following options:\n",
      "1    : Use the deliverableviewer and see upcoming due dates\n",
      "2    : Use the timemanagercalc and get study time recommendations\n",
      "x    : Quit the session\n",
      "x\n",
      "\n",
      "Your MDSTimeManger session is over. Have a good day :)\n"
     ]
    }
   ],
   "source": [
    "from main import execute\n",
    "\n",
    "execute()"
   ]
  }
 ],
 "metadata": {
  "kernelspec": {
   "display_name": "Python 3 (ipykernel)",
   "language": "python",
   "name": "python3"
  },
  "language_info": {
   "codemirror_mode": {
    "name": "ipython",
    "version": 3
   },
   "file_extension": ".py",
   "mimetype": "text/x-python",
   "name": "python",
   "nbconvert_exporter": "python",
   "pygments_lexer": "ipython3",
   "version": "3.9.12"
  }
 },
 "nbformat": 4,
 "nbformat_minor": 5
}
