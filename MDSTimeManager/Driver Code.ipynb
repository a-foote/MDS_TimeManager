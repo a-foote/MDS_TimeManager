{
 "cells": [
  {
   "cell_type": "markdown",
   "id": "b7375675",
   "metadata": {},
   "source": [
    "# Test code"
   ]
  },
  {
   "cell_type": "code",
   "execution_count": 31,
   "id": "f68b1068",
   "metadata": {},
   "outputs": [
    {
     "name": "stdout",
     "output_type": "stream",
     "text": [
      "<setup.course.Course object at 0x000001805B70F490> :\n",
      "Project: Time Manager is on December 22, 2022\n",
      "<setup.course.Course object at 0x000001805B711AF0> :\n",
      "Quiz 1 is on December 5, 2022\n",
      "Quiz 2 is on December 19, 2022\n",
      "Assignment 1 is on December 12, 2022\n",
      "Assignment 2 is on December 16, 2022\n",
      "<setup.course.Course object at 0x000001805B711F10> :\n",
      "Quiz 1 is on December 7, 2022\n",
      "Quiz 2 is on December 21, 2022\n",
      "Assignment 1 is on December 5, 2022\n",
      "Assignment 2 is on December 19, 2022\n",
      "<setup.course.Course object at 0x000001805B7119D0> :\n",
      "Quiz 1 is on December 6, 2022\n",
      "Quiz 2 is on December 20, 2022\n",
      "Lab 1 is on December 1, 2022\n",
      "Lab 2 is on December 8, 2022\n",
      "Lab 3 is on December 15, 2022\n"
     ]
    }
   ],
   "source": [
    "import setup.course as c\n",
    "\n",
    "# Course 1\n",
    "Data533 = c.Course(\"Object Oriented Programming\",\"Khalad Hasan\",\"3\",1)\n",
    "Data533Project = c.Project(\"Project: Time Manager\",\"December 22, 2022\", \"None so far\", \"Bro no time!\",\"MyRepo.git\")\n",
    "# How to assign deliverables to a course object\n",
    "Data533.deliverables = Data533Project\n",
    "Data533.deliverables # fix how the object displays\n",
    "\n",
    "# Course 2\n",
    "Data543 = c.Course(\"Data Collection\",\"Emelie Gustaffson\",\"3\",1)\n",
    "Data543Quiz1 = c.Quiz(\"Quiz 1\", \"December 5, 2022\", \"Complete\", \"Lecture 1 to Lecture 4\", \"MCQ, Short Answers and R programming\")\n",
    "Data543Quiz2 = c.Quiz(\"Quiz 2\", \"December 19, 2022\", \"Incomplete\", \"Lecture 5 to Lecture 8\", \"MCQ and R programming\")\n",
    "Data543Assignment1 = c.AssignLab(\"Assignment 1\", \"December 12, 2022\", \"Complete\", \"\", \"\", subloc=\"Canvas\" )\n",
    "Data543Assignment2 = c.AssignLab(\"Assignment 2\", \"December 16, 2022\",\"Incomplete\" , \"\", \"\", subloc=\"Canvas\" )\n",
    "Data543.deliverables = Data543Quiz1\n",
    "Data543.deliverables = Data543Quiz2\n",
    "Data543.deliverables = Data543Assignment1\n",
    "Data543.deliverables = Data543Assignment2\n",
    "# for deliverable in Data543.deliverables:\n",
    "#     print(deliverable.date)\n",
    "\n",
    "# Course 3\n",
    "Data571 = c.Course(\"Resampling and Regularization\",\"Jeff Andrews\",\"3\",3)\n",
    "Data571Quiz1 = c.Quiz(\"Quiz 1\", \"December 7, 2022\", \"Complete\", \"Lecture 1 to Lecture 3\", \"MCQ and Short Answers\")\n",
    "Data571Quiz2 = c.Quiz(\"Quiz 2\", \"December 21, 2022\", \"Incomplete\", \"Lecture 4 to Lecture 7\", \"MCQ and Short Answers\")\n",
    "Data571Assignment1 = c.AssignLab(\"Assignment 1\", \"December 5, 2022\", \"Complete\", \"\",\"\",subloc=\"Canvas\" )\n",
    "Data571Assignment2 = c.AssignLab(\"Assignment 2\", \"December 19, 2022\", \"Incomplete\",\"\",\"\",subloc=\"Canvas\" )\n",
    "Data571.deliverables = Data571Quiz1\n",
    "Data571.deliverables = Data571Quiz2\n",
    "Data571.deliverables = Data571Assignment1\n",
    "Data571.deliverables = Data571Assignment2\n",
    "# print(\"Deliverables for this course are:\", end = \"\")\n",
    "# for deliverable in Data571.deliverables:\n",
    "#     print(deliverable, end = \"\")\n",
    "\n",
    "\n",
    "# Course 4\n",
    "Data581 = c.Course(\"Modelling and Simulation\",\"Ladan Tazik\",\"3\",1)\n",
    "Data581Quiz1 = c.Quiz(\"Quiz 1\", \"December 6, 2022\", \"Complete\", \"Lecture 1 to Lecture 3\", \"MCQ and Short Answers\")\n",
    "Data581Quiz2 = c.Quiz(\"Quiz 2\", \"December 20, 2022\", \"Incomplete\", \"Lecture 4 to Lecture 7\", \"MCQ and Short Answers\")\n",
    "Data581Lab1 = c.AssignLab(\"Lab 1\", \"December 1, 2022\", \"Complete\", \"\",\"\",subloc=\"Canvas\" )\n",
    "Data581Lab2 = c.AssignLab(\"Lab 2\", \"December 8, 2022\", \"Complete\", \"\",\"\",subloc=\"Canvas\" )\n",
    "Data581Lab3 = c.AssignLab(\"Lab 3\", \"December 15, 2022\", \"Incomplete\", \"\",\"\",subloc=\"Canvas\" )\n",
    "Data581.deliverables = Data581Quiz1\n",
    "Data581.deliverables = Data581Quiz2\n",
    "Data581.deliverables = Data581Lab1\n",
    "Data581.deliverables = Data581Lab2\n",
    "Data581.deliverables = Data581Lab3\n",
    "\n",
    "# making a list of courses in Block 3\n",
    "Courses = []\n",
    "Courses.append(Data533)\n",
    "Courses.append(Data543)\n",
    "Courses.append(Data571)\n",
    "Courses.append(Data581)\n",
    "# print(Courses)\n",
    "\n",
    "# function to see deliverables\n",
    "def see_deliverables(course_list):\n",
    "    for course in course_list:\n",
    "        print(f\"{course} :\")\n",
    "        for deliverable in course.deliverables:\n",
    "            print(f\"{deliverable.dname} is on {deliverable.date}\")\n",
    "\n",
    "see_deliverables(Courses)"
   ]
  },
  {
   "cell_type": "markdown",
   "id": "f38cdccb",
   "metadata": {},
   "source": [
    "# Final code (to be used)"
   ]
  },
  {
   "cell_type": "markdown",
   "id": "b3ec9edb",
   "metadata": {},
   "source": [
    "# "
   ]
  },
  {
   "cell_type": "code",
   "execution_count": 1,
   "id": "4d484fb4",
   "metadata": {},
   "outputs": [
    {
     "name": "stdout",
     "output_type": "stream",
     "text": [
      "Type: Student \n",
      "Name: Vimaljeet Singh \n",
      "Student ID: 25087913\n",
      "\n",
      "Type: Student \n",
      "Name: Alyssa Foote \n",
      "Student ID: 13712508\n",
      "\n",
      "Type: Instructor \n",
      "Name: Khalad Hasan \n",
      "Hours: Wednesday: 12:30pm - 1:30pm \n",
      "Communication Method: Slack, Email, Appointment \n",
      "Teaches: ['Data 540: Scripting and Reporting, Data 533: Object Oriented Programming']\n",
      "\n",
      "Type: Instructor \n",
      "Name: Emelie Gustaffson \n",
      "Hours: Tuesday: 12:30pm - 01:00pm \n",
      "Communication Method: Slack \n",
      "Teaches: ['Data 543: Data Collection']\n",
      "\n",
      "Type: Instructor \n",
      "Name: Jeff Andrews \n",
      "Hours: Thursday: 3:30pm - 4:30pm \n",
      "Communication Method: Slack, Drop-in \n",
      "Teaches: ['Data 570: Resampling and Regularization']\n",
      "\n",
      "Type: Instructor \n",
      "Name: Ladan Tazik \n",
      "Hours: Wednesday: 01:30pm - 2:00pm \n",
      "Communication Method: Slack, Email \n",
      "Teaches: ['Data 581: Modelling and Simulation 2']\n",
      "\n"
     ]
    }
   ],
   "source": [
    "import setup.person as p\n",
    "\n",
    "################################################################################################ student\n",
    "def strstud(self): # prints the student objects\n",
    "    return f\"Type: Student \\nName: {self.name} \\nStudent ID: {self.sID}\\n\"\n",
    "\n",
    "stud1 = p.Student(\"Vimaljeet Singh\", 25087913)\n",
    "print(strstud(stud1))\n",
    "stud2 = p.Student(\"Alyssa Foote\", 13712508)\n",
    "print(strstud(stud2))\n",
    "\n",
    "################################################################################################ instructor\n",
    "\n",
    "def strinstr(self): # prints the student objects\n",
    "    return f\"Type: Instructor \\nName: {self.name} \\nHours: {self.hours} \\nCommunication Method: {self.comm} \\nTeaches: {self.teaches}\\n\"\n",
    "\n",
    "instr1 = p.Instructor(\"Khalad Hasan\",\"Wednesday: 12:30pm - 1:30pm\", \"Slack, Email, Appointment\")\n",
    "instr1.teaches = \"Data 540: Scripting and Reporting, Data 533: Object Oriented Programming\"\n",
    "print(strinstr(instr1))\n",
    "\n",
    "instr2 = p.Instructor(\"Emelie Gustaffson\",\"Tuesday: 12:30pm - 01:00pm\", \"Slack\")\n",
    "instr2.teaches = \"Data 543: Data Collection\"\n",
    "print(strinstr(instr2))\n",
    "\n",
    "instr3 = p.Instructor(\"Jeff Andrews\",\"Thursday: 3:30pm - 4:30pm\", \"Slack, Drop-in\")\n",
    "instr3.teaches = \"Data 570: Resampling and Regularization\"\n",
    "print(strinstr(instr3))\n",
    "\n",
    "instr4 = p.Instructor(\"Ladan Tazik\",\"Wednesday: 01:30pm - 2:00pm\", \"Slack, Email\")\n",
    "instr4.teaches = \"Data 581: Modelling and Simulation 2\"\n",
    "print(strinstr(instr4))"
   ]
  }
 ],
 "metadata": {
  "kernelspec": {
   "display_name": "Python 3 (ipykernel)",
   "language": "python",
   "name": "python3"
  },
  "language_info": {
   "codemirror_mode": {
    "name": "ipython",
    "version": 3
   },
   "file_extension": ".py",
   "mimetype": "text/x-python",
   "name": "python",
   "nbconvert_exporter": "python",
   "pygments_lexer": "ipython3",
   "version": "3.9.12"
  }
 },
 "nbformat": 4,
 "nbformat_minor": 5
}
