{
 "cells": [
  {
   "cell_type": "markdown",
   "id": "b7375675",
   "metadata": {},
   "source": [
    "# Test code"
   ]
  },
  {
   "cell_type": "code",
   "execution_count": 19,
   "id": "4d484fb4",
   "metadata": {},
   "outputs": [
    {
     "name": "stdout",
     "output_type": "stream",
     "text": [
      "Type: Student \n",
      "Name: Vimaljeet Singh \n",
      "Student ID: 25087913\n",
      "\n",
      "Type: Student \n",
      "Name: Alyssa Foote \n",
      "Student ID: 13712508\n",
      "\n",
      "Type: Instructor \n",
      "Name: Khalad Hasan \n",
      "Hours: Wednesday: 12:30pm - 1:30pm \n",
      "Communication Method: Slack, Email, Appointment \n",
      "Teaches: ['Data 540: Scripting and Reporting, Data 533: Object Oriented Programming']\n",
      "\n",
      "Type: Instructor \n",
      "Name: Emelie Gustaffson \n",
      "Hours: Tuesday: 12:30pm - 01:00pm \n",
      "Communication Method: Slack \n",
      "Teaches: ['Data 543: Data Collection']\n",
      "\n",
      "Type: Instructor \n",
      "Name: Jeff Andrews \n",
      "Hours: Thursday: 3:30pm - 4:30pm \n",
      "Communication Method: Slack, Drop-in \n",
      "Teaches: ['Data 570: Resampling and Regularization']\n",
      "\n",
      "Type: Instructor \n",
      "Name: Ladan Tazik \n",
      "Hours: Wednesday: 01:30pm - 2:00pm \n",
      "Communication Method: Slack, Email \n",
      "Teaches: ['Data 581: Modelling and Simulation 2']\n",
      "\n"
     ]
    }
   ],
   "source": [
    "import setup.person as p\n",
    "\n",
    "################################################################################################ student\n",
    "def strstud(self): # prints the student objects\n",
    "    return f\"Type: Student \\nName: {self.name} \\nStudent ID: {self.sID}\\n\"\n",
    "\n",
    "stud1 = p.Student(\"Vimaljeet Singh\", 25087913)\n",
    "print(strstud(stud1))\n",
    "stud2 = p.Student(\"Alyssa Foote\", 13712508)\n",
    "print(strstud(stud2))\n",
    "\n",
    "################################################################################################ instructor\n",
    "\n",
    "def strinstr(self): # prints the student objects\n",
    "    return f\"Type: Instructor \\nName: {self.name} \\nHours: {self.hours} \\nCommunication Method: {self.comm} \\nTeaches: {self.teaches}\\n\"\n",
    "\n",
    "instr1 = p.Instructor(\"Khalad Hasan\",\"Wednesday: 12:30pm - 1:30pm\", \"Slack, Email, Appointment\")\n",
    "instr1.teaches = \"Data 540: Scripting and Reporting, Data 533: Object Oriented Programming\"\n",
    "print(strinstr(instr1))\n",
    "\n",
    "instr2 = p.Instructor(\"Emelie Gustaffson\",\"Tuesday: 12:30pm - 01:00pm\", \"Slack\")\n",
    "instr2.teaches = \"Data 543: Data Collection\"\n",
    "print(strinstr(instr2))\n",
    "\n",
    "instr3 = p.Instructor(\"Jeff Andrews\",\"Thursday: 3:30pm - 4:30pm\", \"Slack, Drop-in\")\n",
    "instr3.teaches = \"Data 570: Resampling and Regularization\"\n",
    "print(strinstr(instr3))\n",
    "\n",
    "instr4 = p.Instructor(\"Ladan Tazik\",\"Wednesday: 01:30pm - 2:00pm\", \"Slack, Email\")\n",
    "instr4.teaches = \"Data 581: Modelling and Simulation 2\"\n",
    "print(strinstr(instr4))"
   ]
  },
  {
   "cell_type": "markdown",
   "id": "f38cdccb",
   "metadata": {},
   "source": [
    "# Final code (to be used)"
   ]
  },
  {
   "cell_type": "markdown",
   "id": "f50d2fa5",
   "metadata": {},
   "source": [
    "- Take input for course ranks and study time available and assign to objects of class Course when that module is done."
   ]
  }
 ],
 "metadata": {
  "kernelspec": {
   "display_name": "Python 3 (ipykernel)",
   "language": "python",
   "name": "python3"
  },
  "language_info": {
   "codemirror_mode": {
    "name": "ipython",
    "version": 3
   },
   "file_extension": ".py",
   "mimetype": "text/x-python",
   "name": "python",
   "nbconvert_exporter": "python",
   "pygments_lexer": "ipython3",
   "version": "3.9.12"
  }
 },
 "nbformat": 4,
 "nbformat_minor": 5
}
