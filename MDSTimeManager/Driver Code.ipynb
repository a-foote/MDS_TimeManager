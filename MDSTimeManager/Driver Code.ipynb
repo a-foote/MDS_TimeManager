{
 "cells": [
  {
   "cell_type": "markdown",
   "id": "b7375675",
   "metadata": {},
   "source": [
    "# Driver code"
   ]
  },
  {
   "cell_type": "code",
   "execution_count": null,
   "id": "a26db1a3",
   "metadata": {},
   "outputs": [
    {
     "name": "stdout",
     "output_type": "stream",
     "text": [
      "Welcome to the MDSTimeManager! \n",
      "\n",
      "Please note:\n",
      "Presently this tool is strictly for use by MDS Okanagan students in Block 3 of 2022. \n",
      "Future versions of this package will expand for use in all blocks for both MDS Vancouver and Okanagan students.\n",
      "\n",
      "\n",
      "Enter one of the following options:\n",
      "1    : Use the deliverableviewer and see upcoming due dates\n",
      "2    : Use the timemanagercalc and get study time recommendations\n",
      "x    : Quit the session\n",
      "1\n",
      "\n",
      "\n",
      "Deliverables due in the next 7 days are:\n",
      "\n",
      "Data533: Quiz                   due on: 12/20 (MM/DD)\n",
      "Data543: Quiz 2                 due on: 12/19 (MM/DD)\n",
      "Data543: Assignment 2           due on: 12/16 (MM/DD)\n",
      "Data571: Quiz 2                 due on: 12/21 (MM/DD)\n",
      "Data571: Assignment 2           due on: 12/19 (MM/DD)\n",
      "Data 581: Quiz 2                due on: 12/20 (MM/DD)\n",
      "Data 581: Lab 3                 due on: 12/15 (MM/DD)\n",
      "\n",
      "\n",
      "\n",
      "\n",
      "Enter one of the following options:\n",
      "1    : Use the deliverableviewer and see upcoming due dates\n",
      "2    : Use the timemanagercalc and get study time recommendations\n",
      "x    : Quit the session\n",
      "2\n",
      "\n",
      "\n",
      "\n",
      "Please choose a rank for the following courses out of (1,2,3) with 3 being most difficult.\n",
      "For Object Oriented Programming: \n",
      "5\n",
      "Having a hard time following basic instructions? \n",
      "Choose from ranks 1, 2 or 3 only\n",
      "x\n",
      "Having a hard time following basic instructions? \n",
      "Choose from ranks 1, 2 or 3 only\n",
      "x\n",
      "Having a hard time following basic instructions? \n",
      "Choose from ranks 1, 2 or 3 only\n"
     ]
    }
   ],
   "source": [
    "from main import execute\n",
    "\n",
    "execute()"
   ]
  }
 ],
 "metadata": {
  "kernelspec": {
   "display_name": "Python 3 (ipykernel)",
   "language": "python",
   "name": "python3"
  },
  "language_info": {
   "codemirror_mode": {
    "name": "ipython",
    "version": 3
   },
   "file_extension": ".py",
   "mimetype": "text/x-python",
   "name": "python",
   "nbconvert_exporter": "python",
   "pygments_lexer": "ipython3",
   "version": "3.9.12"
  }
 },
 "nbformat": 4,
 "nbformat_minor": 5
}
