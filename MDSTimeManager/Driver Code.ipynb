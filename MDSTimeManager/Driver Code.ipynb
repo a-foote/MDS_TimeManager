{
 "cells": [
  {
   "cell_type": "markdown",
   "id": "b7375675",
   "metadata": {},
   "source": [
    "# Driver code"
   ]
  },
  {
   "cell_type": "code",
   "execution_count": 1,
   "id": "dc1379d4",
   "metadata": {},
   "outputs": [
    {
     "name": "stdout",
     "output_type": "stream",
     "text": [
      "Data543: Quiz 2       due on: 12/19 (MM/DD)\n",
      "Data543: Assignment 2 due on: 12/16 (MM/DD)\n",
      "Data571: Assignment 2 due on: 12/19 (MM/DD)\n",
      "Data 581: Quiz 2      due on: 12/20 (MM/DD)\n",
      "Data 581: Lab 3       due on: 12/15 (MM/DD)\n"
     ]
    }
   ],
   "source": [
    "import system.deliverableviewer as dv\n",
    "import system.timemanager as tm\n",
    "\n",
    "next7deliverables = dv.DeliverableSearch(tm.Courses)\n",
    "dv.DeliverableViewer(next7deliverables)"
   ]
  },
  {
   "cell_type": "code",
   "execution_count": 3,
   "id": "9f0e6d0a",
   "metadata": {},
   "outputs": [
    {
     "name": "stdout",
     "output_type": "stream",
     "text": [
      "Please choose a rank out of (1,2,3) with 3 being most difficult.\n",
      "For Object Oriented Programming: \n",
      "1\n",
      "For Data Collection: \n",
      "2\n",
      "For Resampling and Regularization: \n",
      "3\n",
      "For Modelling and Simulation: \n",
      "2\n",
      "How much time is available in the next 7 days for studies (in hours)? 26\n",
      "How much time (in hours) will you take for the following:\n",
      "\n",
      "For Data543: Assignment 2 due on: 12/16 (MM/DD)\n",
      "4\n",
      "For Data571: Assignment 2 due on: 12/19 (MM/DD)\n",
      "4\n",
      "For Data 581: Lab 3       due on: 12/15 (MM/DD)\n",
      "2\n",
      "\n",
      "Time left after assignments and labs: 16.00 hours\n",
      "\n",
      "Recommended study time for Object Oriented Programming is 2.00 hours (120 mins)\n",
      "Recommended study time for Data Collection is 4.00 hours (240 mins)\n",
      "Recommended study time for Resampling and Regularization is 6.00 hours (360 mins)\n",
      "Recommended study time for Modelling and Simulation is 4.00 hours (240 mins)\n"
     ]
    }
   ],
   "source": [
    "availabletime = tm.userinput()\n",
    "tm.timemanagercal(availabletime, tm.Courses)"
   ]
  }
 ],
 "metadata": {
  "kernelspec": {
   "display_name": "Python 3 (ipykernel)",
   "language": "python",
   "name": "python3"
  },
  "language_info": {
   "codemirror_mode": {
    "name": "ipython",
    "version": 3
   },
   "file_extension": ".py",
   "mimetype": "text/x-python",
   "name": "python",
   "nbconvert_exporter": "python",
   "pygments_lexer": "ipython3",
   "version": "3.9.12"
  }
 },
 "nbformat": 4,
 "nbformat_minor": 5
}
