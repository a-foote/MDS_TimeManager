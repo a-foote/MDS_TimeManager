{
 "cells": [
  {
   "cell_type": "markdown",
   "id": "b7375675",
   "metadata": {},
   "source": [
    "# Driver code"
   ]
  },
  {
   "cell_type": "code",
   "execution_count": 1,
   "id": "0c484e56",
   "metadata": {},
   "outputs": [
    {
     "name": "stdout",
     "output_type": "stream",
     "text": [
      "Welcome to the MDSTimeManager! \n",
      "\n",
      "Please note:\n",
      "Presently this tool is strictly for use by MDS Okanagan students in Block 3 of 2022. \n",
      "Future versions of this package will expand for use in all blocks for both MDS Vancouver and Okanagan students.\n",
      "\n",
      "\n",
      "Menu Options:\n",
      "1    : Use the deliverableviewer and see upcoming or all due dates\n",
      "2    : Use the timemanagercalc and get study time recommendations\n",
      "x    : Quit the session\n",
      "Enter your selection: l\n",
      "\n",
      "\n",
      "l is an invalid menu option, please try again.\n",
      "\n",
      "\n",
      "Menu Options:\n",
      "1    : Use the deliverableviewer and see upcoming or all due dates\n",
      "2    : Use the timemanagercalc and get study time recommendations\n",
      "x    : Quit the session\n",
      "Enter your selection: 6\n",
      "\n",
      "\n",
      "6 is an invalid menu option, please try again.\n",
      "\n",
      "\n",
      "Menu Options:\n",
      "1    : Use the deliverableviewer and see upcoming or all due dates\n",
      "2    : Use the timemanagercalc and get study time recommendations\n",
      "x    : Quit the session\n",
      "Enter your selection: 1\n",
      "\n",
      "\n",
      "\n",
      "\n",
      "Submenu Options:\n",
      "a    : View deliverables due in the next 7 days\n",
      "b    : View all deliverables\n",
      "Enter your selection:6.5\n",
      "6.5 is an invalid menu option, please try again.\n",
      "\n",
      "\n",
      "Menu Options:\n",
      "1    : Use the deliverableviewer and see upcoming or all due dates\n",
      "2    : Use the timemanagercalc and get study time recommendations\n",
      "x    : Quit the session\n",
      "Enter your selection: x\n",
      "\n",
      "Your MDSTimeManager session is over. Have a good day :)\n"
     ]
    }
   ],
   "source": [
    "from MDSTimeManager.system.main import execute\n",
    "execute()"
   ]
  }
 ],
 "metadata": {
  "kernelspec": {
   "display_name": "Python 3 (ipykernel)",
   "language": "python",
   "name": "python3"
  },
  "language_info": {
   "codemirror_mode": {
    "name": "ipython",
    "version": 3
   },
   "file_extension": ".py",
   "mimetype": "text/x-python",
   "name": "python",
   "nbconvert_exporter": "python",
   "pygments_lexer": "ipython3",
   "version": "3.9.15"
  }
 },
 "nbformat": 4,
 "nbformat_minor": 5
}
