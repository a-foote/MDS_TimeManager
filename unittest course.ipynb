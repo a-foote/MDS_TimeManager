{
 "cells": [
  {
   "cell_type": "code",
   "execution_count": 1,
   "id": "faa07906",
   "metadata": {},
   "outputs": [
    {
     "name": "stderr",
     "output_type": "stream",
     "text": [
      "----------------------------------------------------------------------\n",
      "Ran 2 tests in 0.000s\n",
      "\n",
      "OK\n"
     ]
    },
    {
     "name": "stdout",
     "output_type": "stream",
     "text": [
      "\n",
      "Start Test 1\n",
      "\n",
      "End Test 1\n",
      "\n",
      "Start Test 2\n",
      "\n",
      "End Test 2\n"
     ]
    },
    {
     "data": {
      "text/plain": [
       "<unittest.main.TestProgram at 0x254b0b5e370>"
      ]
     },
     "execution_count": 1,
     "metadata": {},
     "output_type": "execute_result"
    }
   ],
   "source": [
    "import unittest\n",
    "import MDSTimeManager.setup.course as c\n",
    "import datetime \n",
    "\n",
    "########################################################################################################################\n",
    "\n",
    "# Creating objects\n",
    "\n",
    "# Course 1\n",
    "Data533 = c.Course(\"Object Oriented Programming\",\"Khalad Hasan\",\"3\",1)\n",
    "Data533Project = c.Project(\"Data 533: Project- Time Manager\",\"12/22\", milestones=\"no milestones\",repo=\"MyRepo.git\")\n",
    "\n",
    "# Course 2\n",
    "Data543 = c.Course(\"Data Collection\",\"Emelie Gustaffson\",\"3\",1)\n",
    "Data543Quiz1 = c.Quiz(\"Data543: Quiz 1\", \"12/5\", \"Complete\", \"Lecture 1 to Lecture 4\", \"MCQ, Short Answers and R programming\")\n",
    "Data543Quiz2 = c.Quiz(\"Data543: Quiz 2\", \"12/19\", \"Incomplete\", \"Lecture 5 to Lecture 8\", \"MCQ and R programming\")\n",
    "Data543Assignment1 = c.AssignLab(\"Data543: Assignment 1\", \"12/12\", \"Complete\", \"\", \"\", subloc=\"Canvas\" )\n",
    "Data543Assignment2 = c.AssignLab(\"Data543: Assignment 2\", \"12/16\",\"Incomplete\" , \"\", \"\", subloc=\"Canvas\" )\n",
    "\n",
    "# Course 3\n",
    "Data571 = c.Course(\"Resampling and Regularization\",\"Jeff Andrews\",\"3\",3)\n",
    "Data571Quiz1 = c.Quiz(\"Data571: Quiz 1\", \"12/7\", \"Complete\", \"Lecture 1 to Lecture 3\", \"MCQ and Short Answers\")\n",
    "Data571Quiz2 = c.Quiz(\"Data571: Quiz 2\", \"12/21\", \"Incomplete\", \"Lecture 4 to Lecture 6\", \"MCQ and Short Answers\")\n",
    "Data571Assignment1 = c.AssignLab(\"Data571: Assignment 1\", \"12/5\", \"Complete\", \"\",\"\",subloc=\"Canvas\" )\n",
    "Data571Assignment2 = c.AssignLab(\"Data571: Assignment 2\", \"12/19\", \"Incomplete\",\"\",\"\",subloc=\"Canvas\" )\n",
    "\n",
    "\n",
    "# Course 4\n",
    "Data581 = c.Course(\"Modelling and Simulation\",\"Ladan Tazik\",\"3\",1)\n",
    "Data581Quiz1 = c.Quiz(\"Data 581: Quiz 1\", \"12/6\", \"Complete\", \"Lecture 1 to Lecture 3\", \"MCQ and Short Answers\")\n",
    "Data581Quiz2 = c.Quiz(\"Data 581: Quiz 2\", \"12/20\", \"Incomplete\", \"Lecture 4 to Lecture 7\", \"MCQ and Short Answers\")\n",
    "Data581Lab1 = c.AssignLab(\"Data 581: Lab 1\", \"12/1\", \"Complete\", \"\",\"\",subloc=\"Canvas\" )\n",
    "Data581Lab2 = c.AssignLab(\"Data 581: Lab 2\", \"12/8\", \"Complete\", \"\",\"\",subloc=\"Canvas\" )\n",
    "Data581Lab3 = c.AssignLab(\"Data 581: Lab 3\", \"12/15\", \"Incomplete\", \"\",\"\",subloc=\"Canvas\" )\n",
    "\n",
    "Courses = [Data533, Data543, Data571, Data581]\n",
    "\n",
    "########################################################################################################################\n",
    "\n",
    "class TestSetupCourse(unittest.TestCase):\n",
    "    \n",
    "    c = 1\n",
    "    \n",
    "    @classmethod\n",
    "    def setUp(TestSetupCourse):\n",
    "        print(\"\\nStart Test\", TestSetupCourse.c)\n",
    "    \n",
    "    @classmethod\n",
    "    def tearDown(TestSetupCourse):\n",
    "        print(\"\\nEnd Test\", TestSetupCourse.c)\n",
    "        TestSetupCourse.c = TestSetupCourse.c + 1\n",
    "    \n",
    "    def test_deliverables(self):\n",
    "        self.assertEqual(Data543Quiz1.dname, \"Data543: Quiz 1\")\n",
    "        self.assertIsNot(Data581Quiz2.dname, \"Data 581: Quiz 1\")\n",
    "        self.assertIn(\"Time Manager\",Data533Project.dname)\n",
    "        self.assertTrue(Data571Quiz1.date==\"12/7\")\n",
    "        \n",
    "    def test_course(self):\n",
    "        self.assertIn(\"Jeff\", Data571.instructor)\n",
    "        self.assertNotIn(\"Data Colection\", Data543.cname)\n",
    "        self.assertTrue(Data571.block==\"3\")\n",
    "        self.assertEqual(Data533.cname, \"Object Oriented Programming\")\n",
    "\n",
    "unittest.main(argv=[''], verbosity=0, exit=False)"
   ]
  }
 ],
 "metadata": {
  "kernelspec": {
   "display_name": "Python 3 (ipykernel)",
   "language": "python",
   "name": "python3"
  },
  "language_info": {
   "codemirror_mode": {
    "name": "ipython",
    "version": 3
   },
   "file_extension": ".py",
   "mimetype": "text/x-python",
   "name": "python",
   "nbconvert_exporter": "python",
   "pygments_lexer": "ipython3",
   "version": "3.9.12"
  }
 },
 "nbformat": 4,
 "nbformat_minor": 5
}
